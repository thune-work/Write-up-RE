{
  "nbformat": 4,
  "nbformat_minor": 0,
  "metadata": {
    "colab": {
      "name": "DownUnderCTF2021.ipynb",
      "provenance": [],
      "collapsed_sections": [],
      "toc_visible": true,
      "authorship_tag": "ABX9TyPXj/K/u+jf0yKr2LeT2pbF",
      "include_colab_link": true
    },
    "kernelspec": {
      "name": "python3",
      "display_name": "Python 3"
    },
    "language_info": {
      "name": "python"
    }
  },
  "cells": [
    {
      "cell_type": "markdown",
      "metadata": {
        "id": "view-in-github",
        "colab_type": "text"
      },
      "source": [
        "<a href=\"https://colab.research.google.com/github/thune-work/Write-up-RE/blob/main/DownUnderCTF2021.ipynb\" target=\"_parent\"><img src=\"https://colab.research.google.com/assets/colab-badge.svg\" alt=\"Open In Colab\"/></a>"
      ]
    },
    {
      "cell_type": "markdown",
      "metadata": {
        "id": "yZKm21S8RLZn"
      },
      "source": [
        "# **DownUnderCTF 2021**\n",
        "Author: thunebae\n",
        "\n",
        "Github: https://github.com/thune-work/Write-up-RE/tree/main/DownUnderCTF2021\n"
      ]
    },
    {
      "cell_type": "markdown",
      "metadata": {
        "id": "42wmB-J3mQp9"
      },
      "source": [
        "*italicized text*# New Section"
      ]
    },
    {
      "cell_type": "markdown",
      "metadata": {
        "id": "sPk-ME1zmS4j"
      },
      "source": [
        "# 1. No strings\n",
        "\n",
        "File: [Download](https://github.com/thune-work/Write-up-RE/blob/main/File/nostrings)\n",
        "*   Thời gian giải: 5 phút\n",
        "*   Sử dụng IDAPro 64-bit disassembly ra đoạn mã giả bên dưới, ta thấy được dòng số 9 là nhập vào một chuỗi mà chuỗi này chính là flag cần tìm.\n",
        "\n",
        "\n",
        "\n",
        "```\n",
        "int __cdecl main(int argc, const char **argv, const char **envp)\n",
        "{\n",
        "  int i; // [rsp+Ch] [rbp-64h]\n",
        "  char s[72]; // [rsp+10h] [rbp-60h] BYREF\n",
        "  unsigned __int64 v6; // [rsp+58h] [rbp-18h]\n",
        "\n",
        "  v6 = __readfsqword(0x28u);\n",
        "  printf(\"flag? \");\n",
        "  fgets(s, 70, stdin);\n",
        "  for ( i = 0; i < strlen(s) - 1; ++i )\n",
        "  {\n",
        "    if ( s[i] != LOBYTE(flag[i]) )\n",
        "    {\n",
        "      puts(\"wrong!\");\n",
        "      return -1;\n",
        "    }\n",
        "  }\n",
        "  puts(\"correct!\");\n",
        "  return 0;\n",
        "}\n",
        "```\n",
        "\n",
        "\n",
        "\n",
        "### FLAG\n",
        "> DUCTF{stringent_strings_string}\n",
        "\n"
      ]
    },
    {
      "cell_type": "markdown",
      "metadata": {
        "id": "yP04UzYOmpGF"
      },
      "source": [
        "# 2. FLag loader\n",
        "File: [Download]()\n",
        "\n",
        "*   Thời gian giải: 13h \n",
        "*   *Chú thích:* Bài này tốn khá nhiều time và theo như em thấy rằng em đã sử dụng yếu tố \"mò\" khá nhiều thay vì đánh giá tính chất toán học để giải quyết vấn đề, cộng thêm phần may mắn để giải được bài toán nên write up này có thể không bao quát được hết tất cả các trường hợp.\n",
        "\n",
        "Đầu tiên, nhìn vào hàm main, ta thấy được rằng sẽ phải trải qua 3 câu hỏi tương đương với 3 hàm check1, check2, check3. Kết quả của các hàm check được lưu lần lượt tại các biến v4, v5, v6 (kiểu int). Khi đã pass được qua 3 hàm check thì chúng ta sẽ có được flag. \n",
        "\n",
        "```\n",
        "int __cdecl main(int argc, const char **argv, const char **envp)\n",
        "{\n",
        "  int v4; // [rsp+Ch] [rbp-124h]\n",
        "  int v5; // [rsp+10h] [rbp-120h]\n",
        "  int v6; // [rsp+14h] [rbp-11Ch]\n",
        "  FILE *stream; // [rsp+18h] [rbp-118h]\n",
        "  char s[264]; // [rsp+20h] [rbp-110h] BYREF\n",
        "  unsigned __int64 v9; // [rsp+128h] [rbp-8h]\n",
        "\n",
        "  v9 = __readfsqword(0x28u);\n",
        "  init();\n",
        "  v4 = check1();\n",
        "  v5 = check2();\n",
        "  v6 = check3();\n",
        "  puts(\"You've passed all the checks! Please be patient as the flag loads.\");\n",
        "  puts(\"Loading flag... (this may or may not take a while)\");\n",
        "  sleep(v6 * v5 * v4);\n",
        "  stream = fopen(\"flag.txt\", \"r\");\n",
        "  fgets(s, 255, stream);\n",
        "  printf(\"%s\", s);\n",
        "  return 0;\n",
        "}\n",
        "```\n",
        "\n",
        "Tuy nhiên, không dễ ăn như vậy, khi ở dòng 17, có một câu lệnh sleep với tham số truyền vào là tích v6, v5 và v4. Như vậy, nếu kết quả tích này lớn, chúng ta có thể chờ đến mùa quýt flag cũng chưa được gửi tới. Do vậy, để không phải chờ, chúng ta sử dụng integer overflow (kỹ thuật được sử dụng chính trong bài này). Chúng ta sẽ điều chỉnh giá trị trả về của các hàm check1, check2, check3 làm sao cho tích v6, v5, v4 sẽ là 2^32 = 4294967296 tương đương với số 0.\n",
        "\n",
        "Chúng ta xem qua các hàm check1:\n",
        "\n",
        "```\n",
        "__int64 check1()\n",
        "{\n",
        "  char v1; // [rsp+Ah] [rbp-16h]\n",
        "  unsigned __int8 v2; // [rsp+Bh] [rbp-15h]\n",
        "  int i; // [rsp+Ch] [rbp-14h]\n",
        "  char buf[6]; // [rsp+12h] [rbp-Eh] BYREF\n",
        "  unsigned __int64 v5; // [rsp+18h] [rbp-8h]\n",
        "\n",
        "  v5 = __readfsqword(0x28u);\n",
        "  v1 = 0;\n",
        "  v2 = 1;\n",
        "  printf(\"Give me five letters: \");\n",
        "  read(0, buf, 5uLL);\n",
        "  for ( i = 0; i <= 4; ++i )\n",
        "  {\n",
        "    v1 += X[i] ^ buf[i];\n",
        "    v2 *= ((_BYTE)i + 1) * buf[i];\n",
        "  }\n",
        "  if ( v1 || !v2 )\n",
        "    die();\n",
        "  return v2;\n",
        "}\n",
        "```\n",
        "```\n",
        "X = [0x44, 0x55, 0x43, 0x54, 0x46]\n",
        "```\n",
        "\n",
        "Hàm check1 yêu cầu nhập 1 chuỗi 5 ký tự sao cho sau vòng lặp ở dòng 14 đến 18 thì v1 = 0, còn v2 là cái quần gì cũng được miễn là khác 0. Nhưng theo em, để dễ tính toán thì nên là một luỹ thừa của 2.\n",
        "\n",
        "```\n",
        "v1 = X[0]^buf[0] + X[1]^buf[1] + X[2]^buf[2] + X[3]^buf[3] + X[4]^buf[4]\n",
        "```\n",
        "\n",
        "Sau khi thử XOR các ký tự chữ thường, chữ in hoa, số trong bảng ASCII với mảng X, thì trong chuỗi 5 ký tự này phải chứa 3 ký tự in hoa và 2 ký tự số thì mới cho ra được v1 = 0. Vì giá trị XOR của các ký tự số với mạng X là rất lớn khoảng tầm 0x63 đến 0x7f, nếu cộng 2 ký tự bất kỳ sẽ cho ra được 1 số gần với 0xff nhất, sau đó cộng thêm 3 kết quả XOR với 3 ký tự in hoa (các kết quả này nhỏ hơn 0x20) thì là vừa đủ. Không thể sử dụng giá trị XOR với mảng X của các ký tự thường vì chúng quá nhỏ.\n",
        "\n",
        "```\n",
        "v2 = (120*buf[0]*buf[1]*buf[2]*buf[3]*buf[4])&0xff\n",
        "```\n",
        "\n",
        "Giá trị của v2 rất quan trọng vì nó là đầu ra của hàm check1. Và tác giải đúng là không dễ chơi khi cho v2#0. Đến đây, em xin được sử dụng phương pháp \"mò\". Có 2 kết quả em tìm được thoả check1 là \"4SSS5\" và \"4RSR5\". Tuy nhiên, ở kết quả \"4RSR5\", em tính được giá trị v2 = 128 = 2^6. Kết quả này đẹp tuyệt vời và em quyết định chọn nó.\n",
        "\n",
        "```\n",
        "__int64 check2()\n",
        "{\n",
        "  unsigned int v1; // [rsp+Ch] [rbp-14h] BYREF\n",
        "  unsigned int v2; // [rsp+10h] [rbp-10h] BYREF\n",
        "  unsigned int v3; // [rsp+14h] [rbp-Ch]\n",
        "  unsigned __int64 v4; // [rsp+18h] [rbp-8h]\n",
        "\n",
        "  v4 = __readfsqword(0x28u);\n",
        "  LOWORD(v3) = rand();\n",
        "  v3 = (unsigned __int16)v3;\n",
        "  printf(\"Solve this: x + y = %d\\n\", (unsigned __int16)v3);\n",
        "  __isoc99_scanf(\"%u %u\", &v1, &v2);\n",
        "  if ( !v1 || !v2 || v1 <= v3 || v2 <= v3 )\n",
        "    die();\n",
        "  if ( v2 + v1 != v3 || (unsigned __int16)(v1 * v2) <= 0x3Bu )\n",
        "    die();\n",
        "  return (unsigned __int16)(v1 * v2);\n",
        "}\n",
        "```\n",
        "\n",
        "Đối với hàm check2, ta cần giải quyết phép toán v1 + v2 = a, với số a được cho random sao cho v1 > a và v2 > a. Nhìn vào ta cũng biết được cần ứng dụng integer overflow để giải quyết phép toán này. Tuy nhiên, cái chúng ta cần quan tâm là đầu ra của hàm check2 (v1*v2). \n",
        "\n",
        "Tham vọng của em đối với hàm check2 là để nó ra được kết quả là 2^15. Vì đầu ra này có kiểu unsigned __int16, số dương lớn nhất của nó chính là 2^15. Do đó, theo như 2 số em in ra bên dưới tương đương:\n",
        "\n",
        "```\n",
        "v1 = a + 32768\n",
        "v2 = - 32768\n",
        "```\n",
        "\n",
        "Thì v1*v2 = (a + 2^15) * (-2)^15 tương đương shift right a + 2^15, 15 bit. Do a + 2^15 > 2^15 nên kết quả đầu ra sẽ là 2^15. \n",
        "\n",
        "***Lưu ý***: Dù suy luận là như vậy nhưng chưa bao quát vì đối với các số a cho trước mà chỉ có 4 chữ số thì em thấy kết quả sai :\")) Không sao, em cứ thấy số a 5 chữ số thì em vọc không thì bỏ. \n",
        "\n"
      ]
    },
    {
      "cell_type": "code",
      "metadata": {
        "id": "qT6e9D7CniQA"
      },
      "source": [
        "a = 32919\n",
        "print(str(a + 32768) + \" \" + str(4294967296 - 32768))"
      ],
      "execution_count": null,
      "outputs": []
    },
    {
      "cell_type": "markdown",
      "metadata": {
        "id": "almETS22idd1"
      },
      "source": [
        "Như vậy, ta đã có check1(2) = 2^6, check2() = 2^15, suy ra check3() = 2^11 mới không phải đợi chờ trong vô vọng như em đã từng. \n",
        "\n",
        "```\n",
        "__int64 check3()\n",
        "{\n",
        "  unsigned int v1; // [rsp+0h] [rbp-20h] BYREF\n",
        "  unsigned int v2; // [rsp+4h] [rbp-1Ch] BYREF\n",
        "  unsigned int v3; // [rsp+8h] [rbp-18h] BYREF\n",
        "  unsigned int v4; // [rsp+Ch] [rbp-14h] BYREF\n",
        "  unsigned int v5; // [rsp+10h] [rbp-10h] BYREF\n",
        "  int v6; // [rsp+14h] [rbp-Ch]\n",
        "  unsigned __int64 v7; // [rsp+18h] [rbp-8h]\n",
        "\n",
        "  v7 = __readfsqword(0x28u);\n",
        "  LOWORD(v6) = rand();\n",
        "  v6 = (unsigned __int16)v6;\n",
        "  printf(\"Now solve this: x1 + x2 + x3 + x4 + x5 = %d\\n\", (unsigned __int16)v6);\n",
        "  __isoc99_scanf(\"%u %u %u %u %u\", &v1, &v2, &v3, &v4, &v5);\n",
        "  if ( !v1 || !v2 || !v3 || !v4 || !v5 )\n",
        "    die();\n",
        "  if ( v1 >= v2 || v2 >= v3 || v3 >= v4 || v4 >= v5 )\n",
        "    die();\n",
        "  if ( v5 + v4 + v3 + v2 + v1 != v6 || (unsigned __int16)((v3 - v2) * (v5 - v4)) <= 0x3Bu )\n",
        "    die();\n",
        "  return (unsigned __int16)((v3 - v2) * (v5 - v4));\n",
        "}\n",
        "```\n",
        "\n",
        "Trong check3, cần thoả v1 + v2 + v3 + v4 + v5 = a, với a là random sao cho v1 < v2 < v3 < v4 < v5. Kết quả đầu ra là (v3 - v2)*(v5 - v4) cũng là kiểu unsigned __int16. Do 2^11 < 2^15 nên yên tâm là kết quả sẽ ra dương. \n",
        "\n",
        "Tham vọng của em là làm cho v3 - v2 = 2^5, còn v5 - v4 = 2^6. Và em chia được như sau:\n",
        "\n",
        "```\n",
        "a = (a - 96) + (a + 33) + (a + 2^5 + 33) - (a + 33) - (a - 2^6 + 33)\n",
        "v1 = a - 96\n",
        "v2 = a + 33\n",
        "v3 = a + 2^5 + 33\n",
        "v4 = a + 33\n",
        "v5 = a - 2^6 + 33\n",
        "```\n"
      ]
    },
    {
      "cell_type": "code",
      "metadata": {
        "id": "xJj1n3ChkS1g"
      },
      "source": [
        "a = 37171\n",
        "#a - 96 + (a + 33) + (a+2**5 + 33) - (a + 33) - (a - 2**6 + 33)\n",
        "print (str(a - 96)  +\" \" + str(a + 33) +\" \" + str(a+2**5 + 33)  + \" \"+  str(4294967296 - (a+33)) +\" \" + str(4294967296 - (a - 2**6 + 33)) )"
      ],
      "execution_count": null,
      "outputs": []
    },
    {
      "cell_type": "markdown",
      "metadata": {
        "id": "yjlytouRkUfC"
      },
      "source": [
        "Cuối cùng, sau 13 tiếng đồng hò mò tới mò lui, thì flag đã hiện ra mà không phải chờ 1s nào.\n",
        "\n",
        "> DUCTF{y0u_sur3_kn0w_y0ur_int3gr4l_d4t4_typ3s!}\n",
        "\n",
        "![Capture.PNG](data:image/png;base64,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)\n"
      ]
    }
  ]
}